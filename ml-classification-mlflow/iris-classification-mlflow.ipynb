{
 "cells": [
  {
   "cell_type": "code",
   "execution_count": 171,
   "metadata": {
    "collapsed": true
   },
   "outputs": [],
   "source": [
    "import pandas as pd"
   ]
  },
  {
   "cell_type": "code",
   "execution_count": 220,
   "outputs": [
    {
     "data": {
      "text/plain": "   sepal_length  sepal_width  petal_length  petal_width       target\n0           5.1          3.5           1.4          0.2  Iris-setosa\n1           4.9          3.0           1.4          0.2  Iris-setosa\n2           4.7          3.2           1.3          0.2  Iris-setosa\n3           4.6          3.1           1.5          0.2  Iris-setosa\n4           5.0          3.6           1.4          0.2  Iris-setosa",
      "text/html": "<div>\n<style scoped>\n    .dataframe tbody tr th:only-of-type {\n        vertical-align: middle;\n    }\n\n    .dataframe tbody tr th {\n        vertical-align: top;\n    }\n\n    .dataframe thead th {\n        text-align: right;\n    }\n</style>\n<table border=\"1\" class=\"dataframe\">\n  <thead>\n    <tr style=\"text-align: right;\">\n      <th></th>\n      <th>sepal_length</th>\n      <th>sepal_width</th>\n      <th>petal_length</th>\n      <th>petal_width</th>\n      <th>target</th>\n    </tr>\n  </thead>\n  <tbody>\n    <tr>\n      <th>0</th>\n      <td>5.1</td>\n      <td>3.5</td>\n      <td>1.4</td>\n      <td>0.2</td>\n      <td>Iris-setosa</td>\n    </tr>\n    <tr>\n      <th>1</th>\n      <td>4.9</td>\n      <td>3.0</td>\n      <td>1.4</td>\n      <td>0.2</td>\n      <td>Iris-setosa</td>\n    </tr>\n    <tr>\n      <th>2</th>\n      <td>4.7</td>\n      <td>3.2</td>\n      <td>1.3</td>\n      <td>0.2</td>\n      <td>Iris-setosa</td>\n    </tr>\n    <tr>\n      <th>3</th>\n      <td>4.6</td>\n      <td>3.1</td>\n      <td>1.5</td>\n      <td>0.2</td>\n      <td>Iris-setosa</td>\n    </tr>\n    <tr>\n      <th>4</th>\n      <td>5.0</td>\n      <td>3.6</td>\n      <td>1.4</td>\n      <td>0.2</td>\n      <td>Iris-setosa</td>\n    </tr>\n  </tbody>\n</table>\n</div>"
     },
     "execution_count": 220,
     "metadata": {},
     "output_type": "execute_result"
    }
   ],
   "source": [
    "df = pd.read_csv(filepath_or_buffer='iris_data.csv', delimiter=\",\")\n",
    "df.head()"
   ],
   "metadata": {
    "collapsed": false
   }
  },
  {
   "cell_type": "code",
   "execution_count": 221,
   "outputs": [
    {
     "name": "stdout",
     "output_type": "stream",
     "text": [
      "<class 'pandas.core.frame.DataFrame'>\n",
      "RangeIndex: 150 entries, 0 to 149\n",
      "Data columns (total 5 columns):\n",
      " #   Column        Non-Null Count  Dtype  \n",
      "---  ------        --------------  -----  \n",
      " 0   sepal_length  150 non-null    float64\n",
      " 1   sepal_width   150 non-null    float64\n",
      " 2   petal_length  150 non-null    float64\n",
      " 3   petal_width   150 non-null    float64\n",
      " 4   target        150 non-null    object \n",
      "dtypes: float64(4), object(1)\n",
      "memory usage: 6.0+ KB\n"
     ]
    }
   ],
   "source": [
    "df.info()"
   ],
   "metadata": {
    "collapsed": false
   }
  },
  {
   "cell_type": "code",
   "execution_count": 222,
   "outputs": [],
   "source": [
    "def clean_data(df: pd.DataFrame):\n",
    "    print('before droping the null valued columns')\n",
    "    print(df.isna().sum())\n",
    "    df = df.dropna()\n",
    "    print('after droping the null valued columns')\n",
    "    print(df.isna().sum())\n",
    "    return df"
   ],
   "metadata": {
    "collapsed": false
   }
  },
  {
   "cell_type": "code",
   "execution_count": 223,
   "outputs": [
    {
     "name": "stdout",
     "output_type": "stream",
     "text": [
      "before droping the null valued columns\n",
      "sepal_length    0\n",
      "sepal_width     0\n",
      "petal_length    0\n",
      "petal_width     0\n",
      "target          0\n",
      "dtype: int64\n",
      "after droping the null valued columns\n",
      "sepal_length    0\n",
      "sepal_width     0\n",
      "petal_length    0\n",
      "petal_width     0\n",
      "target          0\n",
      "dtype: int64\n"
     ]
    }
   ],
   "source": [
    "df = clean_data(df)"
   ],
   "metadata": {
    "collapsed": false
   }
  },
  {
   "cell_type": "code",
   "execution_count": 224,
   "outputs": [],
   "source": [
    "def split_data(df: pd.DataFrame):\n",
    "    from sklearn.model_selection import train_test_split\n",
    "\n",
    "    X = df.loc[:, df.columns != 'target']\n",
    "    y = df.loc[:, df.columns == 'target']\n",
    "\n",
    "    X_train, X_test, y_train, y_test = train_test_split(X, y, test_size=0.3, random_state=1)\n",
    "\n",
    "    print('X train size:', X_train.shape)\n",
    "    print('Y train size:', X_test.shape)\n",
    "    print('X test size:', y_train.shape)\n",
    "    print('Y test size:', y_test.shape)\n",
    "\n",
    "    return X_train, X_test, y_train, y_test"
   ],
   "metadata": {
    "collapsed": false
   }
  },
  {
   "cell_type": "code",
   "execution_count": 225,
   "outputs": [
    {
     "name": "stdout",
     "output_type": "stream",
     "text": [
      "X train size: (105, 4)\n",
      "Y train size: (45, 4)\n",
      "X test size: (105, 1)\n",
      "Y test size: (45, 1)\n"
     ]
    }
   ],
   "source": [
    "X_train, X_test, y_train, y_test = split_data(df)"
   ],
   "metadata": {
    "collapsed": false
   }
  },
  {
   "cell_type": "code",
   "execution_count": 226,
   "outputs": [],
   "source": [
    "def basic_decision_tree_classifier(X_train, y_train):\n",
    "    from sklearn.tree import DecisionTreeClassifier\n",
    "\n",
    "    model = DecisionTreeClassifier()\n",
    "    model.fit(X_train, y_train)\n",
    "\n",
    "    return model"
   ],
   "metadata": {
    "collapsed": false
   }
  },
  {
   "cell_type": "code",
   "execution_count": 227,
   "outputs": [],
   "source": [
    "model = basic_decision_tree_classifier(X_train, y_train)"
   ],
   "metadata": {
    "collapsed": false
   }
  },
  {
   "cell_type": "code",
   "execution_count": 228,
   "outputs": [],
   "source": [
    "def predict(model, X_test):\n",
    "    y_predicted = model.predict(X_test)\n",
    "    return y_predicted"
   ],
   "metadata": {
    "collapsed": false
   }
  },
  {
   "cell_type": "code",
   "execution_count": 229,
   "outputs": [],
   "source": [
    "def predict_probability(model, X_test):\n",
    "    y_predicted_prob = model.predict_proba(X_test)\n",
    "    return y_predicted_prob"
   ],
   "metadata": {
    "collapsed": false
   }
  },
  {
   "cell_type": "code",
   "execution_count": 242,
   "outputs": [],
   "source": [
    "def generate_metrics(y_predicted, y_test):\n",
    "    from sklearn.metrics import accuracy_score, precision_score, recall_score\n",
    "\n",
    "    # average param = [None, 'micro', 'macro', 'weighted'].\n",
    "\n",
    "    acc = accuracy_score(y_test, y_predicted)\n",
    "    prec = precision_score(y_test, y_predicted,average='macro')\n",
    "    recall = recall_score(y_test, y_predicted, average='macro')\n",
    "    return {'accuracy': round(acc, 2), 'precission': round(prec,2), 'recall': round(recall, 2)}"
   ],
   "metadata": {
    "collapsed": false
   }
  },
  {
   "cell_type": "code",
   "execution_count": 231,
   "outputs": [
    {
     "data": {
      "text/plain": "          0\n0  0.021469\n1  0.021469\n2  0.571965\n3  0.385096",
      "text/html": "<div>\n<style scoped>\n    .dataframe tbody tr th:only-of-type {\n        vertical-align: middle;\n    }\n\n    .dataframe tbody tr th {\n        vertical-align: top;\n    }\n\n    .dataframe thead th {\n        text-align: right;\n    }\n</style>\n<table border=\"1\" class=\"dataframe\">\n  <thead>\n    <tr style=\"text-align: right;\">\n      <th></th>\n      <th>0</th>\n    </tr>\n  </thead>\n  <tbody>\n    <tr>\n      <th>0</th>\n      <td>0.021469</td>\n    </tr>\n    <tr>\n      <th>1</th>\n      <td>0.021469</td>\n    </tr>\n    <tr>\n      <th>2</th>\n      <td>0.571965</td>\n    </tr>\n    <tr>\n      <th>3</th>\n      <td>0.385096</td>\n    </tr>\n  </tbody>\n</table>\n</div>"
     },
     "execution_count": 231,
     "metadata": {},
     "output_type": "execute_result"
    }
   ],
   "source": [
    "feature_importance_df = pd.DataFrame(model.feature_importances_)\n",
    "feature_importance_df.head(10)"
   ],
   "metadata": {
    "collapsed": false
   }
  },
  {
   "cell_type": "code",
   "execution_count": 247,
   "outputs": [
    {
     "name": "stdout",
     "output_type": "stream",
     "text": [
      "{'accuracy': 0.93, 'precission': 0.93, 'recall': 0.94}\n"
     ]
    }
   ],
   "source": [
    "y_predicted = predict(model, X_test)\n",
    "y_predicted_prob = predict_probability(model, X_test)\n",
    "result = generate_metrics(y_predicted, y_test)\n",
    "print(result)"
   ],
   "metadata": {
    "collapsed": false
   }
  },
  {
   "cell_type": "markdown",
   "source": [
    "\n",
    "## MLflow starts"
   ],
   "metadata": {
    "collapsed": false
   }
  },
  {
   "cell_type": "code",
   "execution_count": 249,
   "outputs": [
    {
     "name": "stdout",
     "output_type": "stream",
     "text": [
      "{'accuracy': 0.93, 'precission': 0.93, 'recall': 0.94}\n"
     ]
    }
   ],
   "source": [
    "experiment_name = \"basic_decision_tree_classifier\" #basic classifier\n",
    "run_name=\"iris_flower_classification\"\n",
    "run_metrics = generate_metrics(y_predicted, y_test)\n",
    "print(run_metrics)"
   ],
   "metadata": {
    "collapsed": false
   }
  },
  {
   "cell_type": "code",
   "execution_count": 250,
   "outputs": [],
   "source": [
    "def start_experiment(experiment_name, run_name, run_metrics, model, run_params=None):\n",
    "    import mlflow\n",
    "\n",
    "    mlflow.set_experiment(experiment_name=experiment_name)\n",
    "    with mlflow.start_run(run_name=run_name):\n",
    "        if run_params != None:\n",
    "            for param in run_params:\n",
    "                mlflow.log_param(param, run_params[param])\n",
    "\n",
    "        for metric in run_metrics:\n",
    "            mlflow.log_metric(metric, run_metrics[metric])\n",
    "\n",
    "        mlflow.sklearn.log_model(model, \"model\")\n",
    "        mlflow.set_tag(\"tag1\", \"Basic Decision Tree Implementation\")\n",
    "\n",
    "    print('Run - %s is logged to Experiment - %s' %(run_name, experiment_name))"
   ],
   "metadata": {
    "collapsed": false
   }
  },
  {
   "cell_type": "code",
   "execution_count": 251,
   "outputs": [
    {
     "name": "stdout",
     "output_type": "stream",
     "text": [
      "Run - iris_flower_classification is logged to Experiment - basic_decision_tree_classifier\n"
     ]
    }
   ],
   "source": [
    "start_experiment(experiment_name, run_name, run_metrics, model)"
   ],
   "metadata": {
    "collapsed": false
   }
  },
  {
   "cell_type": "code",
   "execution_count": 252,
   "outputs": [],
   "source": [
    "param_dict = {\n",
    "    'criterion': [\"gini\", \"entropy\", \"log_loss\"],\n",
    "    'splitter': [\"best\", \"random\"],\n",
    "    'max_depth': [None, 5, 10, 15, 20, 35, 30],\n",
    "    'class_weight': [None, \"balanced\"]\n",
    "}\n",
    "\n",
    "def optimised_decision_tree_classifier(X_train, y_train):\n",
    "    from sklearn.model_selection import GridSearchCV\n",
    "    from sklearn.tree import DecisionTreeClassifier\n",
    "\n",
    "    clf = DecisionTreeClassifier()\n",
    "    gridsearch_cv = GridSearchCV(clf, param_grid=param_dict, cv=10, n_jobs=5)\n",
    "    model = gridsearch_cv.fit(X_train, y_train)\n",
    "    return gridsearch_cv, model"
   ],
   "metadata": {
    "collapsed": false
   }
  },
  {
   "cell_type": "code",
   "execution_count": 253,
   "outputs": [
    {
     "name": "stdout",
     "output_type": "stream",
     "text": [
      "DecisionTreeClassifier()\n",
      "0.9609090909090909\n",
      "{'class_weight': None, 'criterion': 'gini', 'max_depth': None, 'splitter': 'best'}\n"
     ]
    }
   ],
   "source": [
    "result, model = optimised_decision_tree_classifier(X_train, y_train)\n",
    "print(result.best_estimator_)\n",
    "print(result.best_score_)\n",
    "print(result.best_params_)"
   ],
   "metadata": {
    "collapsed": false
   }
  },
  {
   "cell_type": "code",
   "execution_count": 255,
   "outputs": [
    {
     "name": "stdout",
     "output_type": "stream",
     "text": [
      "{'accuracy': 0.93, 'precission': 0.93, 'recall': 0.94}\n"
     ]
    }
   ],
   "source": [
    "experiment_name = \"optimised_decision_tree_classifier\" #basic classifier\n",
    "run_name=\"iris_flower_classification\"\n",
    "run_metrics = generate_metrics(y_predicted, y_test)\n",
    "print(run_metrics)"
   ],
   "metadata": {
    "collapsed": false
   }
  },
  {
   "cell_type": "code",
   "execution_count": 256,
   "outputs": [],
   "source": [
    "y_predicted = predict(model, X_test)\n",
    "y_predicted_prob = predict_probability(model, X_test)"
   ],
   "metadata": {
    "collapsed": false
   }
  },
  {
   "cell_type": "code",
   "execution_count": 257,
   "outputs": [
    {
     "name": "stdout",
     "output_type": "stream",
     "text": [
      "{'accuracy': 0.96, 'precission': 0.96, 'recall': 0.96}\n"
     ]
    }
   ],
   "source": [
    "metrics = generate_metrics(y_predicted, y_test)\n",
    "print(metrics)"
   ],
   "metadata": {
    "collapsed": false
   }
  },
  {
   "cell_type": "code",
   "execution_count": 258,
   "outputs": [
    {
     "name": "stderr",
     "output_type": "stream",
     "text": [
      "2023/04/07 05:54:29 INFO mlflow.tracking.fluent: Experiment with name 'optimised_decision_tree_classifier' does not exist. Creating a new experiment.\n"
     ]
    },
    {
     "name": "stdout",
     "output_type": "stream",
     "text": [
      "Run - iris_flower_classification is logged to Experiment - optimised_decision_tree_classifier\n"
     ]
    }
   ],
   "source": [
    "start_experiment(experiment_name=experiment_name, run_name=run_name, run_metrics=metrics, model=model, run_params=param_dict)"
   ],
   "metadata": {
    "collapsed": false
   }
  },
  {
   "cell_type": "code",
   "execution_count": null,
   "outputs": [],
   "source": [],
   "metadata": {
    "collapsed": false
   }
  }
 ],
 "metadata": {
  "kernelspec": {
   "display_name": "Python 3",
   "language": "python",
   "name": "python3"
  },
  "language_info": {
   "codemirror_mode": {
    "name": "ipython",
    "version": 2
   },
   "file_extension": ".py",
   "mimetype": "text/x-python",
   "name": "python",
   "nbconvert_exporter": "python",
   "pygments_lexer": "ipython2",
   "version": "2.7.6"
  }
 },
 "nbformat": 4,
 "nbformat_minor": 0
}
